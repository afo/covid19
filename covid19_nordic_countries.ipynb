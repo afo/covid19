{
 "cells": [
  {
   "cell_type": "markdown",
   "metadata": {},
   "source": [
    "# Covid19 Analysis for Nordic Countries"
   ]
  },
  {
   "cell_type": "code",
   "execution_count": 48,
   "metadata": {},
   "outputs": [],
   "source": [
    "import pandas as pd\n",
    "import matplotlib.pyplot as plt\n",
    "import numpy as np\n",
    "\n",
    "#%matplotlib inline"
   ]
  },
  {
   "cell_type": "code",
   "execution_count": 49,
   "metadata": {},
   "outputs": [],
   "source": [
    "df = pd.read_json('https://pomber.github.io/covid19/timeseries.json')[['Sweden','Denmark','Norway','Finland','Iceland']]"
   ]
  },
  {
   "cell_type": "code",
   "execution_count": 50,
   "metadata": {},
   "outputs": [
    {
     "data": {
      "text/plain": [
       "{'date': '2020-1-22', 'confirmed': 0, 'deaths': 0, 'recovered': 0}"
      ]
     },
     "execution_count": 50,
     "metadata": {},
     "output_type": "execute_result"
    }
   ],
   "source": [
    "n_rows = df.shape[0]\n",
    "df['Sweden'][0]"
   ]
  },
  {
   "cell_type": "code",
   "execution_count": 51,
   "metadata": {},
   "outputs": [],
   "source": [
    "# extract dates\n",
    "dates = []\n",
    "for i in range(n_rows):\n",
    "    dates.append(df['Sweden'][i]['date'])"
   ]
  },
  {
   "cell_type": "code",
   "execution_count": 52,
   "metadata": {},
   "outputs": [],
   "source": [
    "df['Date'] = dates\n",
    "df['Date'] = pd.to_datetime(df['Date'])\n",
    "df = df.set_index('Date')"
   ]
  },
  {
   "cell_type": "code",
   "execution_count": 53,
   "metadata": {},
   "outputs": [
    {
     "data": {
      "text/html": [
       "<div>\n",
       "<style scoped>\n",
       "    .dataframe tbody tr th:only-of-type {\n",
       "        vertical-align: middle;\n",
       "    }\n",
       "\n",
       "    .dataframe tbody tr th {\n",
       "        vertical-align: top;\n",
       "    }\n",
       "\n",
       "    .dataframe thead th {\n",
       "        text-align: right;\n",
       "    }\n",
       "</style>\n",
       "<table border=\"1\" class=\"dataframe\">\n",
       "  <thead>\n",
       "    <tr style=\"text-align: right;\">\n",
       "      <th></th>\n",
       "      <th>Sweden</th>\n",
       "      <th>Denmark</th>\n",
       "      <th>Norway</th>\n",
       "      <th>Finland</th>\n",
       "      <th>Iceland</th>\n",
       "    </tr>\n",
       "    <tr>\n",
       "      <th>Date</th>\n",
       "      <th></th>\n",
       "      <th></th>\n",
       "      <th></th>\n",
       "      <th></th>\n",
       "      <th></th>\n",
       "    </tr>\n",
       "  </thead>\n",
       "  <tbody>\n",
       "    <tr>\n",
       "      <td>2020-03-24</td>\n",
       "      <td>{'date': '2020-3-24', 'confirmed': 2286, 'deat...</td>\n",
       "      <td>{'date': '2020-3-24', 'confirmed': 1718, 'deat...</td>\n",
       "      <td>{'date': '2020-3-24', 'confirmed': 2863, 'deat...</td>\n",
       "      <td>{'date': '2020-3-24', 'confirmed': 792, 'death...</td>\n",
       "      <td>{'date': '2020-3-24', 'confirmed': 648, 'death...</td>\n",
       "    </tr>\n",
       "    <tr>\n",
       "      <td>2020-03-25</td>\n",
       "      <td>{'date': '2020-3-25', 'confirmed': 2526, 'deat...</td>\n",
       "      <td>{'date': '2020-3-25', 'confirmed': 1862, 'deat...</td>\n",
       "      <td>{'date': '2020-3-25', 'confirmed': 3084, 'deat...</td>\n",
       "      <td>{'date': '2020-3-25', 'confirmed': 880, 'death...</td>\n",
       "      <td>{'date': '2020-3-25', 'confirmed': 737, 'death...</td>\n",
       "    </tr>\n",
       "    <tr>\n",
       "      <td>2020-03-26</td>\n",
       "      <td>{'date': '2020-3-26', 'confirmed': 2840, 'deat...</td>\n",
       "      <td>{'date': '2020-3-26', 'confirmed': 2023, 'deat...</td>\n",
       "      <td>{'date': '2020-3-26', 'confirmed': 3369, 'deat...</td>\n",
       "      <td>{'date': '2020-3-26', 'confirmed': 958, 'death...</td>\n",
       "      <td>{'date': '2020-3-26', 'confirmed': 802, 'death...</td>\n",
       "    </tr>\n",
       "    <tr>\n",
       "      <td>2020-03-27</td>\n",
       "      <td>{'date': '2020-3-27', 'confirmed': 3069, 'deat...</td>\n",
       "      <td>{'date': '2020-3-27', 'confirmed': 2200, 'deat...</td>\n",
       "      <td>{'date': '2020-3-27', 'confirmed': 3755, 'deat...</td>\n",
       "      <td>{'date': '2020-3-27', 'confirmed': 1041, 'deat...</td>\n",
       "      <td>{'date': '2020-3-27', 'confirmed': 890, 'death...</td>\n",
       "    </tr>\n",
       "    <tr>\n",
       "      <td>2020-03-28</td>\n",
       "      <td>{'date': '2020-3-28', 'confirmed': 3447, 'deat...</td>\n",
       "      <td>{'date': '2020-3-28', 'confirmed': 2366, 'deat...</td>\n",
       "      <td>{'date': '2020-3-28', 'confirmed': 4015, 'deat...</td>\n",
       "      <td>{'date': '2020-3-28', 'confirmed': 1167, 'deat...</td>\n",
       "      <td>{'date': '2020-3-28', 'confirmed': 963, 'death...</td>\n",
       "    </tr>\n",
       "  </tbody>\n",
       "</table>\n",
       "</div>"
      ],
      "text/plain": [
       "                                                       Sweden  \\\n",
       "Date                                                            \n",
       "2020-03-24  {'date': '2020-3-24', 'confirmed': 2286, 'deat...   \n",
       "2020-03-25  {'date': '2020-3-25', 'confirmed': 2526, 'deat...   \n",
       "2020-03-26  {'date': '2020-3-26', 'confirmed': 2840, 'deat...   \n",
       "2020-03-27  {'date': '2020-3-27', 'confirmed': 3069, 'deat...   \n",
       "2020-03-28  {'date': '2020-3-28', 'confirmed': 3447, 'deat...   \n",
       "\n",
       "                                                      Denmark  \\\n",
       "Date                                                            \n",
       "2020-03-24  {'date': '2020-3-24', 'confirmed': 1718, 'deat...   \n",
       "2020-03-25  {'date': '2020-3-25', 'confirmed': 1862, 'deat...   \n",
       "2020-03-26  {'date': '2020-3-26', 'confirmed': 2023, 'deat...   \n",
       "2020-03-27  {'date': '2020-3-27', 'confirmed': 2200, 'deat...   \n",
       "2020-03-28  {'date': '2020-3-28', 'confirmed': 2366, 'deat...   \n",
       "\n",
       "                                                       Norway  \\\n",
       "Date                                                            \n",
       "2020-03-24  {'date': '2020-3-24', 'confirmed': 2863, 'deat...   \n",
       "2020-03-25  {'date': '2020-3-25', 'confirmed': 3084, 'deat...   \n",
       "2020-03-26  {'date': '2020-3-26', 'confirmed': 3369, 'deat...   \n",
       "2020-03-27  {'date': '2020-3-27', 'confirmed': 3755, 'deat...   \n",
       "2020-03-28  {'date': '2020-3-28', 'confirmed': 4015, 'deat...   \n",
       "\n",
       "                                                      Finland  \\\n",
       "Date                                                            \n",
       "2020-03-24  {'date': '2020-3-24', 'confirmed': 792, 'death...   \n",
       "2020-03-25  {'date': '2020-3-25', 'confirmed': 880, 'death...   \n",
       "2020-03-26  {'date': '2020-3-26', 'confirmed': 958, 'death...   \n",
       "2020-03-27  {'date': '2020-3-27', 'confirmed': 1041, 'deat...   \n",
       "2020-03-28  {'date': '2020-3-28', 'confirmed': 1167, 'deat...   \n",
       "\n",
       "                                                      Iceland  \n",
       "Date                                                           \n",
       "2020-03-24  {'date': '2020-3-24', 'confirmed': 648, 'death...  \n",
       "2020-03-25  {'date': '2020-3-25', 'confirmed': 737, 'death...  \n",
       "2020-03-26  {'date': '2020-3-26', 'confirmed': 802, 'death...  \n",
       "2020-03-27  {'date': '2020-3-27', 'confirmed': 890, 'death...  \n",
       "2020-03-28  {'date': '2020-3-28', 'confirmed': 963, 'death...  "
      ]
     },
     "execution_count": 53,
     "metadata": {},
     "output_type": "execute_result"
    }
   ],
   "source": [
    "df.tail()"
   ]
  },
  {
   "cell_type": "code",
   "execution_count": 54,
   "metadata": {},
   "outputs": [],
   "source": [
    "df_deaths = pd.DataFrame(index=df.index)\n",
    "for col in df.columns:\n",
    "    df_deaths[col] = [c.get('deaths') for c in df[col]]"
   ]
  },
  {
   "cell_type": "code",
   "execution_count": 55,
   "metadata": {},
   "outputs": [],
   "source": [
    "# Start from March 10 before first deaths\n",
    "df_deaths = df_deaths['2020-03-10':]\n",
    "# Fix faulty Iceland data\n",
    "df_deaths.loc['2020-03-15','Iceland'] = 0\n",
    "df_deaths.loc['2020-03-20','Iceland'] = 1"
   ]
  },
  {
   "cell_type": "code",
   "execution_count": 56,
   "metadata": {},
   "outputs": [],
   "source": [
    "# population data from Wikipedia\n",
    "\n",
    "df_pop = pd.read_html('https://en.wikipedia.org/wiki/List_of_countries_by_population_(United_Nations)')[3]\n",
    "df_pop = df_pop[['Country or area', 'Population(1 July 2019)']]\n",
    "\n",
    "df_pop['Country or area'] = df_pop['Country or area'].str.replace('\\[.*\\]','')\n",
    "df_pop = df_pop.pivot_table(columns='Country or area',values='Population(1 July 2019)')[df.columns]\n",
    "df_pop = df_pop / 1000000"
   ]
  },
  {
   "cell_type": "code",
   "execution_count": 57,
   "metadata": {},
   "outputs": [
    {
     "data": {
      "text/plain": [
       "Population(1 July 2019)    10.036379\n",
       "Name: Sweden, dtype: float64"
      ]
     },
     "execution_count": 57,
     "metadata": {},
     "output_type": "execute_result"
    }
   ],
   "source": [
    "df_pop['Sweden']"
   ]
  },
  {
   "cell_type": "code",
   "execution_count": 58,
   "metadata": {},
   "outputs": [],
   "source": [
    "df_deaths_per_mn = pd.DataFrame(index=df_deaths.index)\n",
    "for col in df_deaths.columns:\n",
    "    df_deaths_per_mn[col] = df_deaths[col] / df_pop[col].values"
   ]
  },
  {
   "cell_type": "code",
   "execution_count": 59,
   "metadata": {},
   "outputs": [
    {
     "data": {
      "text/html": [
       "<div>\n",
       "<style scoped>\n",
       "    .dataframe tbody tr th:only-of-type {\n",
       "        vertical-align: middle;\n",
       "    }\n",
       "\n",
       "    .dataframe tbody tr th {\n",
       "        vertical-align: top;\n",
       "    }\n",
       "\n",
       "    .dataframe thead th {\n",
       "        text-align: right;\n",
       "    }\n",
       "</style>\n",
       "<table border=\"1\" class=\"dataframe\">\n",
       "  <thead>\n",
       "    <tr style=\"text-align: right;\">\n",
       "      <th></th>\n",
       "      <th>Sweden</th>\n",
       "      <th>Denmark</th>\n",
       "      <th>Norway</th>\n",
       "      <th>Finland</th>\n",
       "      <th>Iceland</th>\n",
       "    </tr>\n",
       "    <tr>\n",
       "      <th>Date</th>\n",
       "      <th></th>\n",
       "      <th></th>\n",
       "      <th></th>\n",
       "      <th></th>\n",
       "      <th></th>\n",
       "    </tr>\n",
       "  </thead>\n",
       "  <tbody>\n",
       "    <tr>\n",
       "      <td>2020-03-10</td>\n",
       "      <td>0.000000</td>\n",
       "      <td>0.000000</td>\n",
       "      <td>0.000000</td>\n",
       "      <td>0.000000</td>\n",
       "      <td>0.000000</td>\n",
       "    </tr>\n",
       "    <tr>\n",
       "      <td>2020-03-11</td>\n",
       "      <td>0.099638</td>\n",
       "      <td>0.000000</td>\n",
       "      <td>0.000000</td>\n",
       "      <td>0.000000</td>\n",
       "      <td>0.000000</td>\n",
       "    </tr>\n",
       "    <tr>\n",
       "      <td>2020-03-12</td>\n",
       "      <td>0.099638</td>\n",
       "      <td>0.000000</td>\n",
       "      <td>0.000000</td>\n",
       "      <td>0.000000</td>\n",
       "      <td>0.000000</td>\n",
       "    </tr>\n",
       "    <tr>\n",
       "      <td>2020-03-13</td>\n",
       "      <td>0.099638</td>\n",
       "      <td>0.000000</td>\n",
       "      <td>0.000000</td>\n",
       "      <td>0.000000</td>\n",
       "      <td>0.000000</td>\n",
       "    </tr>\n",
       "    <tr>\n",
       "      <td>2020-03-14</td>\n",
       "      <td>0.199275</td>\n",
       "      <td>0.173254</td>\n",
       "      <td>0.557739</td>\n",
       "      <td>0.000000</td>\n",
       "      <td>0.000000</td>\n",
       "    </tr>\n",
       "    <tr>\n",
       "      <td>2020-03-15</td>\n",
       "      <td>0.298913</td>\n",
       "      <td>0.346508</td>\n",
       "      <td>0.557739</td>\n",
       "      <td>0.000000</td>\n",
       "      <td>0.000000</td>\n",
       "    </tr>\n",
       "    <tr>\n",
       "      <td>2020-03-16</td>\n",
       "      <td>0.597825</td>\n",
       "      <td>0.519762</td>\n",
       "      <td>0.557739</td>\n",
       "      <td>0.000000</td>\n",
       "      <td>0.000000</td>\n",
       "    </tr>\n",
       "    <tr>\n",
       "      <td>2020-03-17</td>\n",
       "      <td>0.697463</td>\n",
       "      <td>0.693016</td>\n",
       "      <td>0.557739</td>\n",
       "      <td>0.000000</td>\n",
       "      <td>2.949583</td>\n",
       "    </tr>\n",
       "    <tr>\n",
       "      <td>2020-03-18</td>\n",
       "      <td>0.996375</td>\n",
       "      <td>0.693016</td>\n",
       "      <td>1.115479</td>\n",
       "      <td>0.000000</td>\n",
       "      <td>2.949583</td>\n",
       "    </tr>\n",
       "    <tr>\n",
       "      <td>2020-03-19</td>\n",
       "      <td>1.096013</td>\n",
       "      <td>1.039523</td>\n",
       "      <td>1.301392</td>\n",
       "      <td>0.000000</td>\n",
       "      <td>2.949583</td>\n",
       "    </tr>\n",
       "    <tr>\n",
       "      <td>2020-03-20</td>\n",
       "      <td>1.594200</td>\n",
       "      <td>1.559285</td>\n",
       "      <td>1.301392</td>\n",
       "      <td>0.000000</td>\n",
       "      <td>2.949583</td>\n",
       "    </tr>\n",
       "    <tr>\n",
       "      <td>2020-03-21</td>\n",
       "      <td>1.992751</td>\n",
       "      <td>2.252301</td>\n",
       "      <td>1.301392</td>\n",
       "      <td>0.180761</td>\n",
       "      <td>2.949583</td>\n",
       "    </tr>\n",
       "    <tr>\n",
       "      <td>2020-03-22</td>\n",
       "      <td>2.092388</td>\n",
       "      <td>2.252301</td>\n",
       "      <td>1.301392</td>\n",
       "      <td>0.180761</td>\n",
       "      <td>2.949583</td>\n",
       "    </tr>\n",
       "    <tr>\n",
       "      <td>2020-03-23</td>\n",
       "      <td>2.490938</td>\n",
       "      <td>4.158093</td>\n",
       "      <td>1.859131</td>\n",
       "      <td>0.180761</td>\n",
       "      <td>2.949583</td>\n",
       "    </tr>\n",
       "    <tr>\n",
       "      <td>2020-03-24</td>\n",
       "      <td>3.586951</td>\n",
       "      <td>5.544125</td>\n",
       "      <td>2.230957</td>\n",
       "      <td>0.180761</td>\n",
       "      <td>5.899166</td>\n",
       "    </tr>\n",
       "    <tr>\n",
       "      <td>2020-03-25</td>\n",
       "      <td>6.177527</td>\n",
       "      <td>5.890632</td>\n",
       "      <td>2.602783</td>\n",
       "      <td>0.542284</td>\n",
       "      <td>5.899166</td>\n",
       "    </tr>\n",
       "    <tr>\n",
       "      <td>2020-03-26</td>\n",
       "      <td>7.672090</td>\n",
       "      <td>7.103410</td>\n",
       "      <td>2.602783</td>\n",
       "      <td>0.903807</td>\n",
       "      <td>5.899166</td>\n",
       "    </tr>\n",
       "    <tr>\n",
       "      <td>2020-03-27</td>\n",
       "      <td>10.461941</td>\n",
       "      <td>9.009203</td>\n",
       "      <td>3.532349</td>\n",
       "      <td>1.265329</td>\n",
       "      <td>5.899166</td>\n",
       "    </tr>\n",
       "    <tr>\n",
       "      <td>2020-03-28</td>\n",
       "      <td>10.461941</td>\n",
       "      <td>11.261503</td>\n",
       "      <td>4.276001</td>\n",
       "      <td>1.626852</td>\n",
       "      <td>5.899166</td>\n",
       "    </tr>\n",
       "  </tbody>\n",
       "</table>\n",
       "</div>"
      ],
      "text/plain": [
       "               Sweden    Denmark    Norway   Finland   Iceland\n",
       "Date                                                          \n",
       "2020-03-10   0.000000   0.000000  0.000000  0.000000  0.000000\n",
       "2020-03-11   0.099638   0.000000  0.000000  0.000000  0.000000\n",
       "2020-03-12   0.099638   0.000000  0.000000  0.000000  0.000000\n",
       "2020-03-13   0.099638   0.000000  0.000000  0.000000  0.000000\n",
       "2020-03-14   0.199275   0.173254  0.557739  0.000000  0.000000\n",
       "2020-03-15   0.298913   0.346508  0.557739  0.000000  0.000000\n",
       "2020-03-16   0.597825   0.519762  0.557739  0.000000  0.000000\n",
       "2020-03-17   0.697463   0.693016  0.557739  0.000000  2.949583\n",
       "2020-03-18   0.996375   0.693016  1.115479  0.000000  2.949583\n",
       "2020-03-19   1.096013   1.039523  1.301392  0.000000  2.949583\n",
       "2020-03-20   1.594200   1.559285  1.301392  0.000000  2.949583\n",
       "2020-03-21   1.992751   2.252301  1.301392  0.180761  2.949583\n",
       "2020-03-22   2.092388   2.252301  1.301392  0.180761  2.949583\n",
       "2020-03-23   2.490938   4.158093  1.859131  0.180761  2.949583\n",
       "2020-03-24   3.586951   5.544125  2.230957  0.180761  5.899166\n",
       "2020-03-25   6.177527   5.890632  2.602783  0.542284  5.899166\n",
       "2020-03-26   7.672090   7.103410  2.602783  0.903807  5.899166\n",
       "2020-03-27  10.461941   9.009203  3.532349  1.265329  5.899166\n",
       "2020-03-28  10.461941  11.261503  4.276001  1.626852  5.899166"
      ]
     },
     "execution_count": 59,
     "metadata": {},
     "output_type": "execute_result"
    }
   ],
   "source": [
    "df_deaths_per_mn"
   ]
  },
  {
   "cell_type": "markdown",
   "metadata": {},
   "source": [
    "# Trend from first death"
   ]
  },
  {
   "cell_type": "code",
   "execution_count": 60,
   "metadata": {},
   "outputs": [],
   "source": [
    "df_deaths_1 = df_deaths[df_deaths != 0]\n",
    "\n",
    "# Remove all dates with zero deaths\n",
    "df_deaths_1 = df_deaths_1.apply(lambda x: pd.Series(x.dropna().values))\n",
    "\n",
    "# Add zero to first day\n",
    "df_deaths_1 = pd.concat([pd.DataFrame(np.zeros((1,df_deaths_1.shape[1])),columns=df_deaths_1.columns), df_deaths_1], axis=0,ignore_index=True)"
   ]
  },
  {
   "cell_type": "code",
   "execution_count": 61,
   "metadata": {},
   "outputs": [],
   "source": [
    "# deaths per mn inhabitants since first death\n",
    "df_deaths_per_mn_1 = pd.DataFrame(index=df_deaths_1.index)\n",
    "for col in df_deaths.columns:\n",
    "    df_deaths_per_mn_1[col] = df_deaths_1[col] / df_pop[col].values"
   ]
  },
  {
   "cell_type": "markdown",
   "metadata": {},
   "source": [
    "# Plots\n",
    "\n",
    "## Deaths over time"
   ]
  },
  {
   "cell_type": "code",
   "execution_count": 69,
   "metadata": {},
   "outputs": [],
   "source": [
    "from datetime import datetime, timedelta\n",
    "\n",
    "end_date = df_deaths.tail().index[-1] + timedelta(days=1)\n",
    "date = str(end_date)[:10] + ' 03:00 CET'\n",
    "\n",
    "def plot_graph(data, title, x_title, y_title, file_name, date, template='seaborn',end_date=end_date):\n",
    "    fig = go.Figure()\n",
    "\n",
    "    for col in data:\n",
    "        fig.add_trace(go.Scatter(x=data.index, y=data[col], name=col))\n",
    "\n",
    "    fig.update_layout(template=template, title_text=title,\n",
    "                  xaxis_title=x_title, xaxis=dict(tickmode='linear'), xaxis_range=[data.index[0], end_date],\n",
    "                  yaxis_title=y_title,\n",
    "                  hovermode = 'x',\n",
    "                  xaxis_rangeslider_visible=True, annotations=[dict(x = 1, y = 0, text = \"Updated {}\".format(date), \n",
    "      showarrow = False, xref='paper', yref='paper', \n",
    "      xanchor='right', yanchor='bottom', xshift=0, yshift=0, font=dict(color=\"red\",size=8.5))])\n",
    "    plotly.offline.plot(fig, filename=file_name,auto_open=False)\n",
    "    \n",
    "plot_graph(df_deaths, 'COVID19 Total Nordic Deaths, starting March 10 2020', \"Date\", \"Deaths\", 'deaths.html', date)\n",
    "plot_graph(df_deaths_per_mn, 'COVID19 Total Nordic Deaths per Mn inhabitants, starting March 10 2020', \"Date\", \"Deaths per Mn inhabitants\", 'deaths_mn.html',date)\n",
    "plot_graph(df_deaths_1, 'COVID19 Total Nordic Deaths, daily data since first death', \"Days since first Death\", \"Deaths\", 'deaths_1.html', date, template='plotly_white', end_date =df_deaths_1.index[-1]+1)\n",
    "plot_graph(df_deaths_per_mn_1, 'COVID19 Total Nordic Deaths per Mn inhabitants, daily data since first death', \"Days since first Death\", \"Deaths per Mn inhabitants\", 'deaths_mn_1.html', date, template='plotly_white', end_date =df_deaths_1.index[-1]+1)"
   ]
  },
  {
   "cell_type": "code",
   "execution_count": null,
   "metadata": {},
   "outputs": [],
   "source": [
    "import plotly.graph_objects as go\n",
    "import pandas as pd\n",
    "import plotly\n",
    "\n",
    "\n",
    "fig = go.Figure()\n",
    "\n",
    "for col in df_deaths:\n",
    "    fig.add_trace(go.Scatter(x=df_deaths.index, y=df_deaths[col], name=col))\n",
    "\n",
    "fig.update_layout(title_text='COVID19 Total Nordic Deaths, starting March 10 2020',\n",
    "                  xaxis_title=\"Date\",\n",
    "                  yaxis_title=\"Deaths\",\n",
    "                  hovermode = 'x',\n",
    "                  xaxis_rangeslider_visible=True, annotations=[dict(x = 1, y = -.47, text = \"Updated {}\".format(str(df_deaths.tail().index[-1])[:10]), \n",
    "      showarrow = False, xref='paper', yref='paper', \n",
    "      xanchor='right', yanchor='auto', xshift=0, yshift=0, font=dict(color=\"red\",size=12))])\n",
    "plotly.offline.plot(fig, filename='deaths.html',auto_open=False)"
   ]
  },
  {
   "cell_type": "code",
   "execution_count": null,
   "metadata": {},
   "outputs": [],
   "source": [
    "fig = go.Figure()\n",
    "\n",
    "for col in df_deaths_per_mn:\n",
    "    fig.add_trace(go.Scatter(x=df_deaths_per_mn.index, y=df_deaths_per_mn[col], name=col))\n",
    "\n",
    "fig.update_layout(title_text='COVID19 Total Nordic Deaths per Mn inhabitants, starting March 10 2020',\n",
    "                  xaxis_title=\"Date\",\n",
    "                  yaxis_title=\"Deaths per Mn inhabitants\",\n",
    "                  hovermode = 'x',\n",
    "                  xaxis_rangeslider_visible=True,annotations=[dict(x = 1, y = -.47, text = \"Updated {}\".format(str(df_deaths.tail().index[-1])[:10]), \n",
    "      showarrow = False, xref='paper', yref='paper', \n",
    "      xanchor='right', yanchor='auto', xshift=0, yshift=0, font=dict(color=\"red\",size=12))])\n",
    "plotly.offline.plot(fig, filename='deaths_mn.html',auto_open=False)"
   ]
  },
  {
   "cell_type": "code",
   "execution_count": null,
   "metadata": {},
   "outputs": [],
   "source": [
    "fig = go.Figure()\n",
    "\n",
    "for col in df_deaths_1:\n",
    "    fig.add_trace(go.Scatter(x=df_deaths_1.index, y=df_deaths_1[col], name=col))\n",
    "\n",
    "fig.update_layout(template='plotly_white', title_text='COVID19 Total Nordic Deaths, daily data since first death',\n",
    "                  xaxis_title=\"Days since first Death\",\n",
    "                  yaxis_title=\"Deaths\",\n",
    "                  hovermode = 'x',\n",
    "                  xaxis_rangeslider_visible=True,annotations=[dict(x = 1, y = -.47, text = \"Updated {}\".format(str(df_deaths.tail().index[-1])[:10]), \n",
    "      showarrow = False, xref='paper', yref='paper', \n",
    "      xanchor='right', yanchor='auto', xshift=0, yshift=0, font=dict(color=\"red\",size=12))])\n",
    "plotly.offline.plot(fig, filename='deaths_1.html',auto_open=False)"
   ]
  },
  {
   "cell_type": "code",
   "execution_count": 19,
   "metadata": {},
   "outputs": [
    {
     "data": {
      "text/plain": [
       "'deaths.html'"
      ]
     },
     "execution_count": 19,
     "metadata": {},
     "output_type": "execute_result"
    }
   ],
   "source": [
    "fig = go.Figure()\n",
    "\n",
    "for col in df_deaths_per_mn_1:\n",
    "    fig.add_trace(go.Scatter(x=df_deaths_per_mn_1.index, y=df_deaths_per_mn_1[col], name=col))\n",
    "\n",
    "fig.update_layout(template='plotly_white', title_text='COVID19 Total Nordic Deaths per Mn inhabitants, daily data since first death',\n",
    "                  xaxis_title=\"Days since first Death\",\n",
    "                  yaxis_title=\"Deaths per Mn inhabitants\",\n",
    "                  hovermode = 'x',\n",
    "                  xaxis_rangeslider_visible=True,annotations=[dict(x = 1, y = -.47, text = \"Updated {}\".format(str(df_deaths.tail().index[-1])[:10]), \n",
    "      showarrow = False, xref='paper', yref='paper', \n",
    "      xanchor='right', yanchor='auto', xshift=0, yshift=0, font=dict(color=\"red\",size=12))])\n",
    "plotly.offline.plot(fig, filename='deaths_mn_1.html',auto_open=False)"
   ]
  },
  {
   "cell_type": "code",
   "execution_count": null,
   "metadata": {},
   "outputs": [],
   "source": []
  }
 ],
 "metadata": {
  "kernelspec": {
   "display_name": "Python 3",
   "language": "python",
   "name": "python3"
  },
  "language_info": {
   "codemirror_mode": {
    "name": "ipython",
    "version": 3
   },
   "file_extension": ".py",
   "mimetype": "text/x-python",
   "name": "python",
   "nbconvert_exporter": "python",
   "pygments_lexer": "ipython3",
   "version": "3.7.4"
  }
 },
 "nbformat": 4,
 "nbformat_minor": 4
}
